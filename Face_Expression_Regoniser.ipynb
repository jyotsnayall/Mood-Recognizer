{
  "nbformat": 4,
  "nbformat_minor": 0,
  "metadata": {
    "colab": {
      "name": "Face Expression Regoniser.ipynb",
      "provenance": []
    },
    "kernelspec": {
      "name": "python3",
      "display_name": "Python 3"
    },
    "language_info": {
      "name": "python"
    },
    "accelerator": "GPU",
    "gpuClass": "standard"
  },
  "cells": [
    {
      "cell_type": "code",
      "execution_count": 1,
      "metadata": {
        "colab": {
          "base_uri": "https://localhost:8080/"
        },
        "id": "o8XahJvJqdKM",
        "outputId": "a9ba18a0-3dd6-4a98-fdfa-95122d664f1a"
      },
      "outputs": [
        {
          "output_type": "stream",
          "name": "stdout",
          "text": [
            "Looking in indexes: https://pypi.org/simple, https://us-python.pkg.dev/colab-wheels/public/simple/\n",
            "Requirement already satisfied: kaggle in /usr/local/lib/python3.7/dist-packages (1.5.12)\n",
            "Requirement already satisfied: tqdm in /usr/local/lib/python3.7/dist-packages (from kaggle) (4.64.0)\n",
            "Requirement already satisfied: python-dateutil in /usr/local/lib/python3.7/dist-packages (from kaggle) (2.8.2)\n",
            "Requirement already satisfied: python-slugify in /usr/local/lib/python3.7/dist-packages (from kaggle) (6.1.2)\n",
            "Requirement already satisfied: requests in /usr/local/lib/python3.7/dist-packages (from kaggle) (2.23.0)\n",
            "Requirement already satisfied: six>=1.10 in /usr/local/lib/python3.7/dist-packages (from kaggle) (1.15.0)\n",
            "Requirement already satisfied: certifi in /usr/local/lib/python3.7/dist-packages (from kaggle) (2022.6.15)\n",
            "Requirement already satisfied: urllib3 in /usr/local/lib/python3.7/dist-packages (from kaggle) (1.24.3)\n",
            "Requirement already satisfied: text-unidecode>=1.3 in /usr/local/lib/python3.7/dist-packages (from python-slugify->kaggle) (1.3)\n",
            "Requirement already satisfied: chardet<4,>=3.0.2 in /usr/local/lib/python3.7/dist-packages (from requests->kaggle) (3.0.4)\n",
            "Requirement already satisfied: idna<3,>=2.5 in /usr/local/lib/python3.7/dist-packages (from requests->kaggle) (2.10)\n"
          ]
        }
      ],
      "source": [
        "! pip install kaggle"
      ]
    },
    {
      "cell_type": "code",
      "source": [
        "from google.colab import drive\n",
        "drive.mount('/content/drive')"
      ],
      "metadata": {
        "colab": {
          "base_uri": "https://localhost:8080/"
        },
        "id": "7ieQ3mjjse0Z",
        "outputId": "dd36d20c-bb80-4e91-f8db-7cc470676f72"
      },
      "execution_count": 2,
      "outputs": [
        {
          "output_type": "stream",
          "name": "stdout",
          "text": [
            "Mounted at /content/drive\n"
          ]
        }
      ]
    },
    {
      "cell_type": "code",
      "source": [
        "!rm -r ~/.kaggle\n",
        "!mkdir ~/.kaggle\n",
        "!cp \"/content/drive/MyDrive/Colab Notebooks/kaggle_api_credentials/kaggle.json\" ~/.kaggle/\n",
        "!chmod 600 ~/.kaggle/kaggle.json\n",
        "!kaggle datasets list"
      ],
      "metadata": {
        "colab": {
          "base_uri": "https://localhost:8080/"
        },
        "id": "epjg1EDEskx1",
        "outputId": "2012da4a-6a07-44ad-8302-62e0b04f0f56"
      },
      "execution_count": 3,
      "outputs": [
        {
          "output_type": "stream",
          "name": "stdout",
          "text": [
            "rm: cannot remove '/root/.kaggle': No such file or directory\n",
            "ref                                                       title                                               size  lastUpdated          downloadCount  voteCount  usabilityRating  \n",
            "--------------------------------------------------------  -------------------------------------------------  -----  -------------------  -------------  ---------  ---------------  \n",
            "ruchi798/data-science-job-salaries                        Data Science Job Salaries                            7KB  2022-06-15 08:59:12           7909        267  1.0              \n",
            "surajjha101/bigbasket-entire-product-list-28k-datapoints  BigBasket Entire Product List (~28K datapoints)      6MB  2022-06-22 12:51:18           2800        113  1.0              \n",
            "victorsoeiro/netflix-tv-shows-and-movies                  Netflix TV Shows and Movies                          2MB  2022-05-15 00:01:23          17668        505  1.0              \n",
            "sameepvani/nasa-nearest-earth-objects                     NASA - Nearest Earth Objects                         7MB  2022-06-17 02:32:18           2682        121  1.0              \n",
            "zusmani/petrolgas-prices-worldwide                        Petrol/Gas Prices Worldwide                         10KB  2022-06-24 01:25:33           2521        121  1.0              \n",
            "mukuldeshantri/ecommerce-fashion-dataset                  E-commerce Dataset with 30K Products               546KB  2022-07-08 12:28:18            869         34  1.0              \n",
            "jimschacko/airlines-dataset-to-predict-a-delay            Airlines Dataset to predict a delay                  6MB  2022-06-21 05:45:44           2433         64  1.0              \n",
            "iamsouravbanerjee/nifty500-stocks-dataset                 Stock Market Dataset (NIFTY-500)                    35KB  2022-07-17 11:46:10            839         62  1.0              \n",
            "zusmani/pakistans-national-assembly-attendance-20182022   Pakistan's National Assembly Attendance 2018-2022    2MB  2022-07-15 03:33:32            259         32  0.88235295       \n",
            "dansbecker/melbourne-housing-snapshot                     Melbourne Housing Snapshot                         451KB  2018-06-05 12:52:24          91437       1112  0.7058824        \n",
            "ramjasmaurya/1-gb-internet-price                          Internet Prices around 200+ countries in 2022.      22KB  2022-07-17 02:56:12           1425         48  0.9705882        \n",
            "datasnaek/youtube-new                                     Trending YouTube Video Statistics                  201MB  2019-06-03 00:56:47         179561       4606  0.7941176        \n",
            "zynicide/wine-reviews                                     Wine Reviews                                        51MB  2017-11-27 17:08:04         163296       3335  0.7941176        \n",
            "deepcontractor/car-price-prediction-challenge             Car Price Prediction Challenge                     429KB  2022-07-06 11:38:32            682         47  0.9411765        \n",
            "datasnaek/chess                                           Chess Game Dataset (Lichess)                         3MB  2017-09-04 03:09:09          30534       1019  0.8235294        \n",
            "rtatman/188-million-us-wildfires                          1.88 Million US Wildfires                          168MB  2020-05-12 21:03:49          20748       1021  0.8235294        \n",
            "residentmario/ramen-ratings                               Ramen Ratings                                       40KB  2018-01-11 16:04:39          34864        793  0.7058824        \n",
            "dansbecker/powerlifting-database                          powerlifting-database                                9MB  2019-04-30 21:07:41           4956         60  0.5882353        \n",
            "jpmiller/publicassistance                                 US Public Food Assistance                          703KB  2020-08-21 16:51:18          16656        396  0.9117647        \n",
            "nasa/kepler-exoplanet-search-results                      Kepler Exoplanet Search Results                      1MB  2017-10-10 18:26:59          10653        664  0.8235294        \n"
          ]
        }
      ]
    },
    {
      "cell_type": "code",
      "source": [
        "! kaggle datasets download sionehoghen/facial-expression"
      ],
      "metadata": {
        "colab": {
          "base_uri": "https://localhost:8080/"
        },
        "id": "bbvxkrWlsuki",
        "outputId": "f453feec-6581-4de4-a4fc-8b3f681d70b2"
      },
      "execution_count": 4,
      "outputs": [
        {
          "output_type": "stream",
          "name": "stdout",
          "text": [
            "Downloading facial-expression.zip to /content\n",
            " 68% 41.0M/60.3M [00:01<00:00, 24.7MB/s]\n",
            "100% 60.3M/60.3M [00:01<00:00, 35.3MB/s]\n"
          ]
        }
      ]
    },
    {
      "cell_type": "code",
      "source": [
        "! unzip -q facial-expression.zip"
      ],
      "metadata": {
        "id": "rRBTRW2YsxMT"
      },
      "execution_count": 5,
      "outputs": []
    },
    {
      "cell_type": "code",
      "source": [
        "import tensorflow as tf\n",
        "import numpy as np\n",
        "import matplotlib.pyplot as plt\n",
        "from pathlib import Path\n",
        "\n",
        "tf.random.set_seed(4)"
      ],
      "metadata": {
        "id": "FKef2PtZs5bu"
      },
      "execution_count": 6,
      "outputs": []
    },
    {
      "cell_type": "code",
      "source": [
        "train_path = Path(\"/content/train\")\n",
        "test_path = Path(\"/content/test\")"
      ],
      "metadata": {
        "id": "O5iHCioet8Zh"
      },
      "execution_count": 7,
      "outputs": []
    },
    {
      "cell_type": "code",
      "source": [
        "# getting image paths\n",
        "train_image_paths = list(train_path.glob(\"*/*\"))\n",
        "train_image_paths = list(map(lambda x: str(x), train_image_paths))\n",
        "\n",
        "print(train_image_paths[:10])"
      ],
      "metadata": {
        "colab": {
          "base_uri": "https://localhost:8080/"
        },
        "id": "8VQVp6PRuGiE",
        "outputId": "ab40c75f-4b65-4cba-d538-4cb0b60b86ad"
      },
      "execution_count": 8,
      "outputs": [
        {
          "output_type": "stream",
          "name": "stdout",
          "text": [
            "['/content/train/angry/Training_2778588.jpg', '/content/train/angry/Training_8813906.jpg', '/content/train/angry/Training_38018954.jpg', '/content/train/angry/Training_67027311.jpg', '/content/train/angry/Training_34928751.jpg', '/content/train/angry/Training_41568333.jpg', '/content/train/angry/Training_95669204.jpg', '/content/train/angry/Training_41898754.jpg', '/content/train/angry/Training_68732558.jpg', '/content/train/angry/Training_39536203.jpg']\n"
          ]
        }
      ]
    },
    {
      "cell_type": "code",
      "source": [
        "# getting respective labels of images\n",
        "def get_label(image_path):\n",
        "  return image_path.split(\"/\")[-2]\n",
        "\n",
        "train_image_labels = list(map(lambda x: get_label(x), train_image_paths))\n",
        "\n",
        "print(train_image_labels[:10])"
      ],
      "metadata": {
        "colab": {
          "base_uri": "https://localhost:8080/"
        },
        "id": "xgd-90mmujwZ",
        "outputId": "6b99b602-8efa-4be4-ee6c-6c36edab47ab"
      },
      "execution_count": 9,
      "outputs": [
        {
          "output_type": "stream",
          "name": "stdout",
          "text": [
            "['angry', 'angry', 'angry', 'angry', 'angry', 'angry', 'angry', 'angry', 'angry', 'angry']\n"
          ]
        }
      ]
    },
    {
      "cell_type": "code",
      "source": [
        "from sklearn.preprocessing import LabelEncoder\n",
        "\n",
        "Le = LabelEncoder()\n",
        "train_image_labels = Le.fit_transform(train_image_labels)\n",
        "\n",
        "print(train_image_labels[:10])"
      ],
      "metadata": {
        "colab": {
          "base_uri": "https://localhost:8080/"
        },
        "id": "we7F1R0IvBB2",
        "outputId": "de380319-8d22-4163-e90e-31d3b24c077f"
      },
      "execution_count": 10,
      "outputs": [
        {
          "output_type": "stream",
          "name": "stdout",
          "text": [
            "[0 0 0 0 0 0 0 0 0 0]\n"
          ]
        }
      ]
    },
    {
      "cell_type": "code",
      "source": [
        "train_image_labels = tf.keras.utils.to_categorical(train_image_labels)\n",
        "\n",
        "print(train_image_labels[:10])"
      ],
      "metadata": {
        "colab": {
          "base_uri": "https://localhost:8080/"
        },
        "id": "YQF5zRpfvQDe",
        "outputId": "d876eefb-2906-4b3d-fc64-c0d40134d85e"
      },
      "execution_count": 11,
      "outputs": [
        {
          "output_type": "stream",
          "name": "stdout",
          "text": [
            "[[1. 0. 0. 0. 0. 0. 0.]\n",
            " [1. 0. 0. 0. 0. 0. 0.]\n",
            " [1. 0. 0. 0. 0. 0. 0.]\n",
            " [1. 0. 0. 0. 0. 0. 0.]\n",
            " [1. 0. 0. 0. 0. 0. 0.]\n",
            " [1. 0. 0. 0. 0. 0. 0.]\n",
            " [1. 0. 0. 0. 0. 0. 0.]\n",
            " [1. 0. 0. 0. 0. 0. 0.]\n",
            " [1. 0. 0. 0. 0. 0. 0.]\n",
            " [1. 0. 0. 0. 0. 0. 0.]]\n"
          ]
        }
      ]
    },
    {
      "cell_type": "code",
      "source": [
        "from sklearn.model_selection import train_test_split\n",
        "\n",
        "Train_paths, Val_paths, Train_labels, Val_labels = train_test_split(train_image_paths, train_image_labels, test_size=0.25)"
      ],
      "metadata": {
        "id": "U11s6JH5vadC"
      },
      "execution_count": 12,
      "outputs": []
    },
    {
      "cell_type": "code",
      "source": [
        "Train_paths[:5], Val_paths[:5], Train_labels[:5], Val_labels[:5]"
      ],
      "metadata": {
        "colab": {
          "base_uri": "https://localhost:8080/"
        },
        "id": "jVyfc6aRvvA6",
        "outputId": "919727aa-2c9c-4b44-ebb2-1abb89f0efa5"
      },
      "execution_count": 13,
      "outputs": [
        {
          "output_type": "execute_result",
          "data": {
            "text/plain": [
              "(['/content/train/fear/Training_79381162.jpg',\n",
              "  '/content/train/angry/Training_26591418.jpg',\n",
              "  '/content/train/surprise/Training_30949917.jpg',\n",
              "  '/content/train/neutral/Training_68423650.jpg',\n",
              "  '/content/train/sad/Training_15632432.jpg'],\n",
              " ['/content/train/angry/Training_52197003.jpg',\n",
              "  '/content/train/happy/Training_96485203.jpg',\n",
              "  '/content/train/angry/Training_66014049.jpg',\n",
              "  '/content/train/happy/Training_76276874.jpg',\n",
              "  '/content/train/sad/Training_79758901.jpg'],\n",
              " array([[0., 0., 1., 0., 0., 0., 0.],\n",
              "        [1., 0., 0., 0., 0., 0., 0.],\n",
              "        [0., 0., 0., 0., 0., 0., 1.],\n",
              "        [0., 0., 0., 0., 1., 0., 0.],\n",
              "        [0., 0., 0., 0., 0., 1., 0.]], dtype=float32),\n",
              " array([[1., 0., 0., 0., 0., 0., 0.],\n",
              "        [0., 0., 0., 1., 0., 0., 0.],\n",
              "        [1., 0., 0., 0., 0., 0., 0.],\n",
              "        [0., 0., 0., 1., 0., 0., 0.],\n",
              "        [0., 0., 0., 0., 0., 1., 0.]], dtype=float32))"
            ]
          },
          "metadata": {},
          "execution_count": 13
        }
      ]
    },
    {
      "cell_type": "code",
      "source": [
        "# compute class weights\n",
        "classTotals = Train_labels.sum(axis=0)\n",
        "classWeight = classTotals.max()/classTotals\n",
        "\n",
        "class_weight = {e: weight for e, weight in enumerate(classWeight)}\n",
        "print(class_weight)"
      ],
      "metadata": {
        "colab": {
          "base_uri": "https://localhost:8080/"
        },
        "id": "HN9h1wqav0xU",
        "outputId": "a7bb6148-4487-45af-bd61-738865dbf3be"
      },
      "execution_count": 14,
      "outputs": [
        {
          "output_type": "stream",
          "name": "stdout",
          "text": [
            "{0: 1.8216325, 1: 16.139881, 2: 1.753881, 3: 1.0, 4: 1.4574039, 5: 1.4849398, 6: 2.327468}\n"
          ]
        }
      ]
    },
    {
      "cell_type": "code",
      "source": [
        "# load image data\n",
        "def load(image, label):\n",
        "  image = tf.io.read_file(image)\n",
        "  image = tf.io.decode_jpeg(image, channels=3)\n",
        "  return image, label"
      ],
      "metadata": {
        "id": "73kuuPOAwXeO"
      },
      "execution_count": 15,
      "outputs": []
    },
    {
      "cell_type": "code",
      "source": [
        "# define image & batch size\n",
        "IMG_SIZE = 96\n",
        "BATCH_SIZE = 32\n",
        "\n",
        "# basic transformation\n",
        "resize = tf.keras.Sequential([\n",
        "    tf.keras.layers.experimental.preprocessing.Resizing(IMG_SIZE, IMG_SIZE)\n",
        "])\n",
        "\n",
        "# data augmentation\n",
        "data_augmentation = tf.keras.Sequential([\n",
        "    tf.keras.layers.experimental.preprocessing.RandomFlip(\"horizontal\"),\n",
        "    tf.keras.layers.experimental.preprocessing.RandomRotation(0.1),\n",
        "    tf.keras.layers.experimental.preprocessing.RandomZoom(height_factor = (-0.1, -0.05)),\n",
        "])\n"
      ],
      "metadata": {
        "id": "X1TJdZcGwoU3"
      },
      "execution_count": 16,
      "outputs": []
    },
    {
      "cell_type": "code",
      "source": [
        "# function to create tf dataset object\n",
        "AUTOTUNE = tf.data.experimental.AUTOTUNE\n",
        "\n",
        "def get_dataset(paths, labels, train=True):\n",
        "    image_paths = tf.convert_to_tensor(paths)\n",
        "    labels = tf.convert_to_tensor(labels)\n",
        "\n",
        "    image_dataset = tf.data.Dataset.from_tensor_slices(image_paths)\n",
        "    label_dataset = tf.data.Dataset.from_tensor_slices(labels)\n",
        "\n",
        "    dataset = tf.data.Dataset.zip((image_dataset, label_dataset))\n",
        "\n",
        "    dataset = dataset.map(lambda image,label: load(image,label))\n",
        "    dataset = dataset.map(lambda image,label: (resize(image),label), num_parallel_calls=AUTOTUNE)\n",
        "    dataset = dataset.shuffle(1000)\n",
        "    dataset = dataset.batch(BATCH_SIZE)\n",
        "\n",
        "    if train:\n",
        "      dataset = dataset.map(lambda image,label: (data_augmentation(image), label), num_parallel_calls=AUTOTUNE)\n",
        "\n",
        "    dataset = dataset.repeat()\n",
        "    return dataset"
      ],
      "metadata": {
        "id": "l-fFds8UxoCB"
      },
      "execution_count": 17,
      "outputs": []
    },
    {
      "cell_type": "code",
      "source": [
        "# creating train dataset object & verifying it\n",
        "%time train_dataset = get_dataset(Train_paths, Train_labels)\n",
        "\n",
        "image, label = next(iter(train_dataset))\n",
        "print(image.shape)\n",
        "print(label.shape)"
      ],
      "metadata": {
        "colab": {
          "base_uri": "https://localhost:8080/"
        },
        "id": "cw4apw-s16UI",
        "outputId": "c41cdc60-b798-4147-e97f-080db0e2a427"
      },
      "execution_count": 18,
      "outputs": [
        {
          "output_type": "stream",
          "name": "stdout",
          "text": [
            "CPU times: user 1.08 s, sys: 21 ms, total: 1.1 s\n",
            "Wall time: 1.83 s\n",
            "(32, 96, 96, 3)\n",
            "(32, 7)\n"
          ]
        }
      ]
    },
    {
      "cell_type": "code",
      "source": [
        "# view a sample training image\n",
        "print(Le.inverse_transform(np.argmax(label, axis=1))[0])\n",
        "plt.imshow((image[0].numpy()/255).reshape(96,96,3))"
      ],
      "metadata": {
        "colab": {
          "base_uri": "https://localhost:8080/",
          "height": 304
        },
        "id": "DqEgb_x_2NIw",
        "outputId": "45fc5a47-228c-44f0-cd21-583ea9d086b6"
      },
      "execution_count": 19,
      "outputs": [
        {
          "output_type": "stream",
          "name": "stdout",
          "text": [
            "neutral\n"
          ]
        },
        {
          "output_type": "execute_result",
          "data": {
            "text/plain": [
              "<matplotlib.image.AxesImage at 0x7f3df92948d0>"
            ]
          },
          "metadata": {},
          "execution_count": 19
        },
        {
          "output_type": "display_data",
          "data": {
            "text/plain": [
              "<Figure size 432x288 with 1 Axes>"
            ],
            "image/png": "[encoded data removed]"
          },
          "metadata": {
            "needs_background": "light"
          }
        }
      ]
    },
    {
      "cell_type": "code",
      "source": [
        "# creating val dataset object & verifying it\n",
        "%time val_dataset = get_dataset(Val_paths, Val_labels, train=False)\n",
        "\n",
        "image, label = next(iter(val_dataset))\n",
        "print(image.shape)\n",
        "print(label.shape)"
      ],
      "metadata": {
        "colab": {
          "base_uri": "https://localhost:8080/"
        },
        "id": "swMkv9K73JDo",
        "outputId": "2b30c77a-8585-4faa-81fb-25e64d7227d9"
      },
      "execution_count": 20,
      "outputs": [
        {
          "output_type": "stream",
          "name": "stdout",
          "text": [
            "CPU times: user 28.7 ms, sys: 1.9 ms, total: 30.6 ms\n",
            "Wall time: 50.1 ms\n",
            "(32, 96, 96, 3)\n",
            "(32, 7)\n"
          ]
        }
      ]
    },
    {
      "cell_type": "code",
      "source": [
        "# view a sample val image\n",
        "print(Le.inverse_transform(np.argmax(label, axis=1))[0])\n",
        "plt.imshow((image[0].numpy()/255).reshape(96,96,3))"
      ],
      "metadata": {
        "colab": {
          "base_uri": "https://localhost:8080/",
          "height": 304
        },
        "id": "XZQata3T3ckn",
        "outputId": "1964844d-143a-4885-fac7-8feedd7ebf94"
      },
      "execution_count": 21,
      "outputs": [
        {
          "output_type": "stream",
          "name": "stdout",
          "text": [
            "angry\n"
          ]
        },
        {
          "output_type": "execute_result",
          "data": {
            "text/plain": [
              "<matplotlib.image.AxesImage at 0x7f3df91377d0>"
            ]
          },
          "metadata": {},
          "execution_count": 21
        },
        {
          "output_type": "display_data",
          "data": {
            "text/plain": [
              "<Figure size 432x288 with 1 Axes>"
            ],
            "image/png": "[encoded data removed]"
          },
          "metadata": {
            "needs_background": "light"
          }
        }
      ]
    },
    {
      "cell_type": "markdown",
      "source": [
        "#### Building EfficientNet Model"
      ],
      "metadata": {
        "id": "ShQ3c0UR3ynR"
      }
    },
    {
      "cell_type": "code",
      "source": [
        "from tensorflow.keras.applications import EfficientNetB2\n",
        "\n",
        "backbone = EfficientNetB2(\n",
        "    input_shape = (96,96,3),\n",
        "    include_top = False,\n",
        ")\n",
        "\n",
        "model = tf.keras.Sequential([\n",
        "    backbone,\n",
        "    tf.keras.layers.GlobalAveragePooling2D(),\n",
        "    tf.keras.layers.Dropout(0.3),\n",
        "    tf.keras.layers.Dense(128, activation=\"relu\"),\n",
        "    tf.keras.layers.Dense(7, activation=\"softmax\"),\n",
        "])\n",
        "\n",
        "model.summary()"
      ],
      "metadata": {
        "colab": {
          "base_uri": "https://localhost:8080/"
        },
        "id": "CM_eIRZl3p2w",
        "outputId": "84c6f629-f9bd-4fb6-87ef-96a8af425442"
      },
      "execution_count": 22,
      "outputs": [
        {
          "output_type": "stream",
          "name": "stdout",
          "text": [
            "Downloading data from https://storage.googleapis.com/keras-applications/efficientnetb2_notop.h5\n",
            "31793152/31790344 [==============================] - 1s 0us/step\n",
            "31801344/31790344 [==============================] - 1s 0us/step\n",
            "Model: \"sequential_2\"\n",
            "_________________________________________________________________\n",
            " Layer (type)                Output Shape              Param #   \n",
            "=================================================================\n",
            " efficientnetb2 (Functional)  (None, 3, 3, 1408)       7768569   \n",
            "                                                                 \n",
            " global_average_pooling2d (G  (None, 1408)             0         \n",
            " lobalAveragePooling2D)                                          \n",
            "                                                                 \n",
            " dropout (Dropout)           (None, 1408)              0         \n",
            "                                                                 \n",
            " dense (Dense)               (None, 128)               180352    \n",
            "                                                                 \n",
            " dense_1 (Dense)             (None, 7)                 903       \n",
            "                                                                 \n",
            "=================================================================\n",
            "Total params: 7,949,824\n",
            "Trainable params: 7,882,249\n",
            "Non-trainable params: 67,575\n",
            "_________________________________________________________________\n"
          ]
        }
      ]
    },
    {
      "cell_type": "code",
      "source": [
        "# compiling model\n",
        "model.compile(\n",
        "    optimizer = tf.keras.optimizers.Adam(learning_rate=0.001, beta_1=0.9, beta_2=0.999, epsilon=1e-07),\n",
        "    loss = 'categorical_crossentropy',\n",
        "    metrics = ['accuracy', tf.keras.metrics.Precision(name='precision'), tf.keras.metrics.Recall(name='recall')],\n",
        ")"
      ],
      "metadata": {
        "id": "2Y-GhoMB4SMC"
      },
      "execution_count": 23,
      "outputs": []
    },
    {
      "cell_type": "code",
      "source": [
        "# train model\n",
        "history = model.fit(\n",
        "    train_dataset,\n",
        "    steps_per_epoch = len(Train_paths)//BATCH_SIZE,\n",
        "    epochs = 12,\n",
        "    # callbacks = [checkpoint, early_stop],\n",
        "    validation_data = val_dataset,\n",
        "    validation_steps = len(Val_paths)//BATCH_SIZE,\n",
        "    class_weight = class_weight,\n",
        ")"
      ],
      "metadata": {
        "colab": {
          "base_uri": "https://localhost:8080/"
        },
        "id": "CRXta9nk49pZ",
        "outputId": "8f13852b-99fd-4335-c59d-b9a619c5960f"
      },
      "execution_count": 24,
      "outputs": [
        {
          "output_type": "stream",
          "name": "stdout",
          "text": [
            "Epoch 1/12\n",
            "672/672 [==============================] - 124s 143ms/step - loss: 2.7832 - accuracy: 0.4030 - precision: 0.6459 - recall: 0.1947 - val_loss: 1.6379 - val_accuracy: 0.3640 - val_precision: 0.5109 - val_recall: 0.1833\n",
            "Epoch 2/12\n",
            "672/672 [==============================] - 96s 140ms/step - loss: 2.3722 - accuracy: 0.4923 - precision: 0.6784 - recall: 0.2918 - val_loss: 1.4926 - val_accuracy: 0.4654 - val_precision: 0.6042 - val_recall: 0.3305\n",
            "Epoch 3/12\n",
            "672/672 [==============================] - 93s 138ms/step - loss: 2.2258 - accuracy: 0.5275 - precision: 0.7009 - recall: 0.3343 - val_loss: 1.3596 - val_accuracy: 0.4880 - val_precision: 0.5977 - val_recall: 0.3545\n",
            "Epoch 4/12\n",
            "672/672 [==============================] - 94s 139ms/step - loss: 2.1195 - accuracy: 0.5440 - precision: 0.7114 - recall: 0.3603 - val_loss: 1.4070 - val_accuracy: 0.4805 - val_precision: 0.5932 - val_recall: 0.3271\n",
            "Epoch 5/12\n",
            "672/672 [==============================] - 94s 140ms/step - loss: 2.0382 - accuracy: 0.5606 - precision: 0.7165 - recall: 0.3863 - val_loss: 1.1531 - val_accuracy: 0.5660 - val_precision: 0.6837 - val_recall: 0.4414\n",
            "Epoch 6/12\n",
            "672/672 [==============================] - 94s 139ms/step - loss: 2.0090 - accuracy: 0.5668 - precision: 0.7189 - recall: 0.3968 - val_loss: 1.2675 - val_accuracy: 0.5218 - val_precision: 0.6672 - val_recall: 0.3863\n",
            "Epoch 7/12\n",
            "672/672 [==============================] - 98s 146ms/step - loss: 1.9076 - accuracy: 0.5800 - precision: 0.7238 - recall: 0.4218 - val_loss: 1.1638 - val_accuracy: 0.5660 - val_precision: 0.6893 - val_recall: 0.4389\n",
            "Epoch 8/12\n",
            "672/672 [==============================] - 95s 141ms/step - loss: 1.8421 - accuracy: 0.5944 - precision: 0.7324 - recall: 0.4406 - val_loss: 1.1467 - val_accuracy: 0.5762 - val_precision: 0.6624 - val_recall: 0.4897\n",
            "Epoch 9/12\n",
            "672/672 [==============================] - 93s 139ms/step - loss: 1.8206 - accuracy: 0.6008 - precision: 0.7312 - recall: 0.4542 - val_loss: 1.1932 - val_accuracy: 0.5558 - val_precision: 0.6715 - val_recall: 0.4368\n",
            "Epoch 10/12\n",
            "672/672 [==============================] - 94s 139ms/step - loss: 1.7956 - accuracy: 0.6062 - precision: 0.7344 - recall: 0.4593 - val_loss: 1.1315 - val_accuracy: 0.5830 - val_precision: 0.6742 - val_recall: 0.4795\n",
            "Epoch 11/12\n",
            "672/672 [==============================] - 93s 139ms/step - loss: 1.7305 - accuracy: 0.6171 - precision: 0.7382 - recall: 0.4771 - val_loss: 1.0549 - val_accuracy: 0.6090 - val_precision: 0.7014 - val_recall: 0.5165\n",
            "Epoch 12/12\n",
            "672/672 [==============================] - 93s 139ms/step - loss: 1.6747 - accuracy: 0.6244 - precision: 0.7419 - recall: 0.4873 - val_loss: 1.1601 - val_accuracy: 0.5875 - val_precision: 0.6709 - val_recall: 0.5074\n"
          ]
        }
      ]
    },
    {
      "cell_type": "code",
      "source": [
        "# turn off the backbone\n",
        "model.layers[0].trainable = False"
      ],
      "metadata": {
        "id": "MuK3KZ7A5Ty-"
      },
      "execution_count": 33,
      "outputs": []
    },
    {
      "cell_type": "code",
      "source": [
        "# defining callbacks\n",
        "checkpoint = tf.keras.callbacks.ModelCheckpoint(\"best_weights.h5\", verbose=1, save_best_only=True, save_weights_only=True)\n",
        "early_stop = tf.keras.callbacks.EarlyStopping(patience=4)"
      ],
      "metadata": {
        "id": "0TA5AQw85Zmq"
      },
      "execution_count": 26,
      "outputs": []
    },
    {
      "cell_type": "code",
      "source": [
        "model.summary()"
      ],
      "metadata": {
        "colab": {
          "base_uri": "https://localhost:8080/"
        },
        "id": "cYRNVReA7fKT",
        "outputId": "646d8d94-3b9f-4b9c-c0f7-46aa16945e67"
      },
      "execution_count": 27,
      "outputs": [
        {
          "output_type": "stream",
          "name": "stdout",
          "text": [
            "Model: \"sequential_2\"\n",
            "_________________________________________________________________\n",
            " Layer (type)                Output Shape              Param #   \n",
            "=================================================================\n",
            " efficientnetb2 (Functional)  (None, 3, 3, 1408)       7768569   \n",
            "                                                                 \n",
            " global_average_pooling2d (G  (None, 1408)             0         \n",
            " lobalAveragePooling2D)                                          \n",
            "                                                                 \n",
            " dropout (Dropout)           (None, 1408)              0         \n",
            "                                                                 \n",
            " dense (Dense)               (None, 128)               180352    \n",
            "                                                                 \n",
            " dense_1 (Dense)             (None, 7)                 903       \n",
            "                                                                 \n",
            "=================================================================\n",
            "Total params: 7,949,824\n",
            "Trainable params: 181,255\n",
            "Non-trainable params: 7,768,569\n",
            "_________________________________________________________________\n"
          ]
        }
      ]
    },
    {
      "cell_type": "code",
      "source": [
        "# train the phase 2 of model\n",
        "history = model.fit(\n",
        "    train_dataset,\n",
        "    steps_per_epoch = len(Train_paths)//BATCH_SIZE,\n",
        "    epochs = 8,\n",
        "    callbacks = [checkpoint, early_stop],\n",
        "    validation_data = val_dataset,\n",
        "    validation_steps = len(Val_paths)//BATCH_SIZE,\n",
        "    class_weight = class_weight,\n",
        ")"
      ],
      "metadata": {
        "colab": {
          "base_uri": "https://localhost:8080/"
        },
        "id": "Xn0kVN7y7aOB",
        "outputId": "bfa4150d-17b4-4431-82c5-89626ba0e254"
      },
      "execution_count": 28,
      "outputs": [
        {
          "output_type": "stream",
          "name": "stdout",
          "text": [
            "Epoch 1/8\n",
            "672/672 [==============================] - ETA: 0s - loss: 1.6620 - accuracy: 0.6311 - precision: 0.7483 - recall: 0.5010\n",
            "Epoch 1: val_loss improved from inf to 1.05514, saving model to best_weights.h5\n",
            "672/672 [==============================] - 94s 139ms/step - loss: 1.6620 - accuracy: 0.6311 - precision: 0.7483 - recall: 0.5010 - val_loss: 1.0551 - val_accuracy: 0.6091 - val_precision: 0.7002 - val_recall: 0.5112\n",
            "Epoch 2/8\n",
            "672/672 [==============================] - ETA: 0s - loss: 1.6099 - accuracy: 0.6401 - precision: 0.7532 - recall: 0.5144\n",
            "Epoch 2: val_loss improved from 1.05514 to 1.02879, saving model to best_weights.h5\n",
            "672/672 [==============================] - 93s 138ms/step - loss: 1.6099 - accuracy: 0.6401 - precision: 0.7532 - recall: 0.5144 - val_loss: 1.0288 - val_accuracy: 0.6211 - val_precision: 0.7174 - val_recall: 0.5230\n",
            "Epoch 3/8\n",
            "672/672 [==============================] - ETA: 0s - loss: 1.5901 - accuracy: 0.6447 - precision: 0.7520 - recall: 0.5260\n",
            "Epoch 3: val_loss did not improve from 1.02879\n",
            "672/672 [==============================] - 94s 140ms/step - loss: 1.5901 - accuracy: 0.6447 - precision: 0.7520 - recall: 0.5260 - val_loss: 1.1125 - val_accuracy: 0.6003 - val_precision: 0.6879 - val_recall: 0.4937\n",
            "Epoch 4/8\n",
            "672/672 [==============================] - ETA: 0s - loss: 1.5530 - accuracy: 0.6542 - precision: 0.7574 - recall: 0.5390\n",
            "Epoch 4: val_loss did not improve from 1.02879\n",
            "672/672 [==============================] - 93s 138ms/step - loss: 1.5530 - accuracy: 0.6542 - precision: 0.7574 - recall: 0.5390 - val_loss: 1.0885 - val_accuracy: 0.6010 - val_precision: 0.6989 - val_recall: 0.5100\n",
            "Epoch 5/8\n",
            "672/672 [==============================] - ETA: 0s - loss: 1.5180 - accuracy: 0.6609 - precision: 0.7583 - recall: 0.5451\n",
            "Epoch 5: val_loss did not improve from 1.02879\n",
            "672/672 [==============================] - 93s 138ms/step - loss: 1.5180 - accuracy: 0.6609 - precision: 0.7583 - recall: 0.5451 - val_loss: 1.1061 - val_accuracy: 0.6014 - val_precision: 0.6759 - val_recall: 0.5315\n",
            "Epoch 6/8\n",
            "672/672 [==============================] - ETA: 0s - loss: 1.4848 - accuracy: 0.6624 - precision: 0.7631 - recall: 0.5536\n",
            "Epoch 6: val_loss improved from 1.02879 to 1.02766, saving model to best_weights.h5\n",
            "672/672 [==============================] - 92s 137ms/step - loss: 1.4848 - accuracy: 0.6624 - precision: 0.7631 - recall: 0.5536 - val_loss: 1.0277 - val_accuracy: 0.6324 - val_precision: 0.7093 - val_recall: 0.5545\n",
            "Epoch 7/8\n",
            "672/672 [==============================] - ETA: 0s - loss: 1.4298 - accuracy: 0.6773 - precision: 0.7712 - recall: 0.5748\n",
            "Epoch 7: val_loss did not improve from 1.02766\n",
            "672/672 [==============================] - 92s 137ms/step - loss: 1.4298 - accuracy: 0.6773 - precision: 0.7712 - recall: 0.5748 - val_loss: 1.0634 - val_accuracy: 0.6182 - val_precision: 0.6862 - val_recall: 0.5446\n",
            "Epoch 8/8\n",
            "672/672 [==============================] - ETA: 0s - loss: 1.4200 - accuracy: 0.6802 - precision: 0.7690 - recall: 0.5764\n",
            "Epoch 8: val_loss did not improve from 1.02766\n",
            "672/672 [==============================] - 92s 136ms/step - loss: 1.4200 - accuracy: 0.6802 - precision: 0.7690 - recall: 0.5764 - val_loss: 1.0872 - val_accuracy: 0.6124 - val_precision: 0.6854 - val_recall: 0.5469\n"
          ]
        }
      ]
    },
    {
      "cell_type": "markdown",
      "source": [
        "Testing Phase"
      ],
      "metadata": {
        "id": "7uIFr6wq7-p3"
      }
    },
    {
      "cell_type": "code",
      "source": [
        ""
      ],
      "metadata": {
        "id": "2hIYMC-fv0Kf"
      },
      "execution_count": null,
      "outputs": []
    },
    {
      "cell_type": "code",
      "source": [
        "backbone = EfficientNetB2(\n",
        "    input_shape = (96,96,3),\n",
        "    include_top = False,\n",
        ")\n",
        "\n",
        "model = tf.keras.Sequential([\n",
        "    backbone,\n",
        "    tf.keras.layers.GlobalAveragePooling2D(),\n",
        "    tf.keras.layers.Dropout(0.3),\n",
        "    tf.keras.layers.Dense(128, activation=\"relu\"),\n",
        "    tf.keras.layers.Dense(7, activation=\"softmax\"),\n",
        "])\n",
        "\n",
        "model.compile(\n",
        "    optimizer = tf.keras.optimizers.Adam(learning_rate=0.001, beta_1=0.9, beta_2=0.999, epsilon=1e-07),\n",
        "    loss = 'categorical_crossentropy',\n",
        "    metrics = ['accuracy', tf.keras.metrics.Precision(name='precision'), tf.keras.metrics.Recall(name='recall')],\n",
        ")"
      ],
      "metadata": {
        "id": "bEUv3tzZwimn"
      },
      "execution_count": 49,
      "outputs": []
    },
    {
      "cell_type": "code",
      "source": [
        "model.load_weights(\"best_weights.h5\")"
      ],
      "metadata": {
        "id": "8GmU4g5-7pyP"
      },
      "execution_count": 50,
      "outputs": []
    },
    {
      "cell_type": "code",
      "source": [
        "# Create a Dataset Object for 'Testing' Set just the way we did for Training and Validation\n",
        "test_image_paths = list(test_path.glob(\"*/*\"))\n",
        "test_image_paths = list(map(lambda x: str(x), test_image_paths))\n",
        "test_labels = list(map(lambda x: get_label(x), test_image_paths))\n",
        "\n",
        "test_labels = Le.transform(test_labels)\n",
        "test_labels = tf.keras.utils.to_categorical(test_labels)\n",
        "\n",
        "test_image_paths = tf.convert_to_tensor(test_image_paths)\n",
        "test_labels = tf.convert_to_tensor(test_labels)\n",
        "\n",
        "def decode_image(image, label):\n",
        "  image = tf.io.read_file(image)\n",
        "  image = tf.io.decode_jpeg(image, channels=3)\n",
        "  image = tf.image.resize(image, [96,96], method=\"bilinear\")\n",
        "  return image, label\n",
        "\n",
        "test_dataset = (\n",
        "    tf.data.Dataset\n",
        "    .from_tensor_slices((test_image_paths, test_labels))\n",
        "    .map(decode_image)\n",
        "    .batch(BATCH_SIZE)\n",
        ")"
      ],
      "metadata": {
        "id": "wbhTkKZz720H"
      },
      "execution_count": 51,
      "outputs": []
    },
    {
      "cell_type": "code",
      "source": [
        "# verify test dataset object\n",
        "image, label = next(iter(test_dataset))\n",
        "\n",
        "print(image.shape)\n",
        "print(label.shape)"
      ],
      "metadata": {
        "colab": {
          "base_uri": "https://localhost:8080/"
        },
        "id": "zyap8x7F78ef",
        "outputId": "c830290b-9ae2-4b2e-86b3-f4cc53f23c4f"
      },
      "execution_count": 52,
      "outputs": [
        {
          "output_type": "stream",
          "name": "stdout",
          "text": [
            "(32, 96, 96, 3)\n",
            "(32, 7)\n"
          ]
        }
      ]
    },
    {
      "cell_type": "code",
      "source": [
        "# view a sample validation image\n",
        "print(Le.inverse_transform(np.argmax(label, axis=1))[0])\n",
        "plt.imshow((image[0].numpy()/255).reshape(96,96,3))"
      ],
      "metadata": {
        "colab": {
          "base_uri": "https://localhost:8080/",
          "height": 304
        },
        "id": "WVYiSJJP8Ci7",
        "outputId": "87922a4c-bf3f-4cda-8fd6-d287bd8f85a5"
      },
      "execution_count": 53,
      "outputs": [
        {
          "output_type": "stream",
          "name": "stdout",
          "text": [
            "angry\n"
          ]
        },
        {
          "output_type": "execute_result",
          "data": {
            "text/plain": [
              "<matplotlib.image.AxesImage at 0x7f3d59092150>"
            ]
          },
          "metadata": {},
          "execution_count": 53
        },
        {
          "output_type": "display_data",
          "data": {
            "text/plain": [
              "<Figure size 432x288 with 1 Axes>"
            ],
            "image/png": "[encoded data removed]"
          },
          "metadata": {
            "needs_background": "light"
          }
        }
      ]
    },
    {
      "cell_type": "code",
      "source": [
        "# evaluating the loaded model\n",
        "loss, acc, prec, rec = model.evaluate(test_dataset)\n",
        "\n",
        "print(\"Testing Accuracy: \", acc)\n",
        "print(\"Testing Precision: \", prec)\n",
        "print(\"Testing Recall: \", rec)"
      ],
      "metadata": {
        "colab": {
          "base_uri": "https://localhost:8080/"
        },
        "id": "XUfHy4Cd8H_W",
        "outputId": "0f77647e-6bf2-4600-e010-a2d07bd18d22"
      },
      "execution_count": 54,
      "outputs": [
        {
          "output_type": "stream",
          "name": "stdout",
          "text": [
            "225/225 [==============================] - 10s 30ms/step - loss: 1.0290 - accuracy: 0.6330 - precision: 0.7080 - recall: 0.5539\n",
            "Testing Accuracy:  0.6330454349517822\n",
            "Testing Precision:  0.7079772353172302\n",
            "Testing Recall:  0.5539147257804871\n"
          ]
        }
      ]
    },
    {
      "cell_type": "code",
      "source": [
        "# save model\n",
        "model.save(\"DetectFacialExpressionModel.h5\")"
      ],
      "metadata": {
        "id": "KVCWnuG-8K2V"
      },
      "execution_count": 55,
      "outputs": []
    },
    {
      "cell_type": "code",
      "source": [
        "# save label encoder\n",
        "import pickle\n",
        "def save_object(obj, name):\n",
        "  pickle_obj = open(f\"{name}.pck\",\"wb\")\n",
        "  pickle.dump(obj, pickle_obj)\n",
        "  pickle_obj.close()"
      ],
      "metadata": {
        "id": "U6RB1MKn8YGM"
      },
      "execution_count": 58,
      "outputs": []
    },
    {
      "cell_type": "code",
      "source": [
        "save_object(Le, \"LabelEncoder\")"
      ],
      "metadata": {
        "id": "vEApabee8rgB"
      },
      "execution_count": 59,
      "outputs": []
    },
    {
      "cell_type": "code",
      "source": [
        ""
      ],
      "metadata": {
        "id": "pfnJg0lhAG0U"
      },
      "execution_count": null,
      "outputs": []
    }
  ]
}